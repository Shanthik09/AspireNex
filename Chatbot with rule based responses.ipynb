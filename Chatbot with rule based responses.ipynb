{
  "nbformat": 4,
  "nbformat_minor": 0,
  "metadata": {
    "colab": {
      "provenance": []
    },
    "kernelspec": {
      "name": "python3",
      "display_name": "Python 3"
    },
    "language_info": {
      "name": "python"
    }
  },
  "cells": [
    {
      "cell_type": "code",
      "execution_count": null,
      "metadata": {
        "colab": {
          "base_uri": "https://localhost:8080/"
        },
        "id": "n8TSvalYIng7",
        "outputId": "4d0a1ea6-4527-4913-b0da-c69e7a20c7fc"
      },
      "outputs": [
        {
          "output_type": "stream",
          "name": "stdout",
          "text": [
            "Hello! I'm a simple chatbot. You can ask me questions or type 'bye' to exit.\n",
            "You: hi\n",
            "Bot: Hello! It's nice to meet you. How can I assist you today?\n",
            "You: who created you\n",
            "Bot: I was created by shanthi. \n",
            "You: what can you do\n",
            "Bot: As an AI assistant, I can help with a wide range of tasks such as answering questions, providing information, analyzing data, and even writing code. However, I don't have access to external systems or APIs, so my capabilities are limited to my built-in knowledge and programming.\n"
          ]
        }
      ],
      "source": [
        "def chatbot_response(message):\n",
        "    message = message.lower()\n",
        "\n",
        "    # Greetings\n",
        "    if message.startswith(('hi', 'hello', 'hey')):\n",
        "        return \"Hello! It's nice to meet you. How can I assist you today?\"\n",
        "    elif message.startswith(('good morning', 'good afternoon', 'good evening')):\n",
        "        return \"Good day to you! How can I be of help?\"\n",
        "\n",
        "    # Name\n",
        "    elif message.startswith(('what is your name', 'what are you called', 'who are you')):\n",
        "        return \"My name is chatbot. I'm an AI assistant .\"\n",
        "\n",
        "    # Well-being\n",
        "    elif message.startswith(('how are you', 'how are you doing')):\n",
        "        return \"I'm doing well, thank you for asking! I'm an AI, so I don't have feelings, but I'm operating as intended.\"\n",
        "\n",
        "    # Weather\n",
        "    elif 'weather' in message:\n",
        "        return \"Unfortunately, I don't have access to real-time weather information. However, you can check weather websites or apps for the latest updates on weather conditions and forecasts.\"\n",
        "\n",
        "    # Time\n",
        "    elif 'time' in message:\n",
        "        return \"I don't actually have a concept of time. As an AI assistant, I don't experience the passage of time the same way humans do.\"\n",
        "\n",
        "    # Gratitude\n",
        "    elif message.startswith(('thank you', 'thanks')):\n",
        "        return \"You're very welcome! I'm always happy to help.\"\n",
        "\n",
        "    # Farewell\n",
        "    elif message.startswith(('bye', 'goodbye', 'see you later')):\n",
        "        return \"Goodbye! Have a wonderful day. Feel free to chat with me again anytime.\"\n",
        "\n",
        "    # Joke\n",
        "    elif message.startswith(('tell me a joke', 'say something funny')):\n",
        "        return \"Why did the tomato turn red? Because it saw the salad dressing!\"\n",
        "\n",
        "    # Age\n",
        "    elif message.startswith(('how old are you', 'what is your age')):\n",
        "        return \"I'm an AI assistant, so I don't have an age in the same sense that humans do. I was created by Anthropic, but I don't have a specific birth date.\"\n",
        "\n",
        "    # Capabilities\n",
        "    elif message.startswith(('what can you do', 'what are your capabilities')):\n",
        "        return \"As an AI assistant, I can help with a wide range of tasks such as answering questions, providing information, analyzing data, and even writing code. However, I don't have access to external systems or APIs, so my capabilities are limited to my built-in knowledge and programming.\"\n",
        "\n",
        "    # Favorite\n",
        "    elif message.startswith(('what is your favorite', 'do you have a favorite')):\n",
        "        return \"I don't have personal preferences or favorites since I'm an AI. I don't experience the world the same way humans do.\"\n",
        "\n",
        "    # Creator\n",
        "    elif message.startswith(('who created you', 'who made you')):\n",
        "        return \"I was created by shanthi. \"\n",
        "\n",
        "\n",
        "    # Default response\n",
        "    else:\n",
        "        return \"I'm afraid I don't understand your query. Could you please rephrase or provide more context?\"\n",
        "\n",
        "# Main loop\n",
        "print(\"Hello! I'm a simple chatbot. You can ask me questions or type 'bye' to exit.\")\n",
        "while True:\n",
        "    user_input = input(\"You: \")\n",
        "    if user_input.lower() == 'bye':\n",
        "        break\n",
        "    response = chatbot_response(user_input)\n",
        "    print(\"Bot:\", response)\n",
        "\n"
      ]
    }
  ]
}